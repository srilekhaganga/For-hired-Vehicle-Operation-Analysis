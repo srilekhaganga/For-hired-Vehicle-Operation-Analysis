{
 "cells": [
  {
   "cell_type": "code",
   "execution_count": 1,
   "metadata": {},
   "outputs": [],
   "source": [
    "# Import necessary libraries\n",
    "import pandas as pd\n",
    "import numpy as np\n",
    "import matplotlib.pyplot as plt\n",
    "import seaborn as sns\n",
    "\n",
    "from sklearn.model_selection import train_test_split\n",
    "from sklearn.linear_model import Ridge, LogisticRegression\n",
    "from sklearn.preprocessing import StandardScaler, LabelEncoder\n",
    "from sklearn.metrics import classification_report, mean_squared_error\n",
    "\n",
    "# Display plots inline\n",
    "%matplotlib inline"
   ]
  },
  {
   "cell_type": "code",
   "execution_count": 2,
   "metadata": {},
   "outputs": [
    {
     "data": {
      "text/html": [
       "<div>\n",
       "<style scoped>\n",
       "    .dataframe tbody tr th:only-of-type {\n",
       "        vertical-align: middle;\n",
       "    }\n",
       "\n",
       "    .dataframe tbody tr th {\n",
       "        vertical-align: top;\n",
       "    }\n",
       "\n",
       "    .dataframe thead th {\n",
       "        text-align: right;\n",
       "    }\n",
       "</style>\n",
       "<table border=\"1\" class=\"dataframe\">\n",
       "  <thead>\n",
       "    <tr style=\"text-align: right;\">\n",
       "      <th></th>\n",
       "      <th>Active</th>\n",
       "      <th>Vehicle License Number</th>\n",
       "      <th>Name</th>\n",
       "      <th>License Type</th>\n",
       "      <th>Expiration Date</th>\n",
       "      <th>Permit License Number</th>\n",
       "      <th>DMV License Plate Number</th>\n",
       "      <th>Vehicle VIN Number</th>\n",
       "      <th>Wheelchair Accessible</th>\n",
       "      <th>Certification Date</th>\n",
       "      <th>...</th>\n",
       "      <th>Base Name</th>\n",
       "      <th>Base Type</th>\n",
       "      <th>VEH</th>\n",
       "      <th>Base Telephone Number</th>\n",
       "      <th>Website</th>\n",
       "      <th>Base Address</th>\n",
       "      <th>Reason</th>\n",
       "      <th>Order Date</th>\n",
       "      <th>Last Date Updated</th>\n",
       "      <th>Last Time Updated</th>\n",
       "    </tr>\n",
       "  </thead>\n",
       "  <tbody>\n",
       "    <tr>\n",
       "      <th>0</th>\n",
       "      <td>YES</td>\n",
       "      <td>5835662</td>\n",
       "      <td>BEREHOUDOUGOU,M,M</td>\n",
       "      <td>FOR HIRE VEHICLE</td>\n",
       "      <td>01/08/2026</td>\n",
       "      <td>NaN</td>\n",
       "      <td>T764264C</td>\n",
       "      <td>5TDKDRBH2RS572458</td>\n",
       "      <td>NaN</td>\n",
       "      <td>NaN</td>\n",
       "      <td>...</td>\n",
       "      <td>UBER USA, LLC</td>\n",
       "      <td>BLACK-CAR</td>\n",
       "      <td>NaN</td>\n",
       "      <td>(646)780-0129</td>\n",
       "      <td>NaN</td>\n",
       "      <td>1515 THIRD STREET SAN FRANCISCO CA 94158</td>\n",
       "      <td>G</td>\n",
       "      <td>NaN</td>\n",
       "      <td>01/30/2025</td>\n",
       "      <td>13:25</td>\n",
       "    </tr>\n",
       "    <tr>\n",
       "      <th>1</th>\n",
       "      <td>YES</td>\n",
       "      <td>6052423</td>\n",
       "      <td>ZAMAN, KAMRUZ</td>\n",
       "      <td>FOR HIRE VEHICLE</td>\n",
       "      <td>06/24/2026</td>\n",
       "      <td>NaN</td>\n",
       "      <td>T135305C</td>\n",
       "      <td>JTMABACA3PA022717</td>\n",
       "      <td>NaN</td>\n",
       "      <td>NaN</td>\n",
       "      <td>...</td>\n",
       "      <td>UBER USA, LLC</td>\n",
       "      <td>BLACK-CAR</td>\n",
       "      <td>BEV</td>\n",
       "      <td>(646)780-0129</td>\n",
       "      <td>NaN</td>\n",
       "      <td>1515 THIRD STREET SAN FRANCISCO CA 94158</td>\n",
       "      <td>G</td>\n",
       "      <td>NaN</td>\n",
       "      <td>01/30/2025</td>\n",
       "      <td>13:25</td>\n",
       "    </tr>\n",
       "    <tr>\n",
       "      <th>2</th>\n",
       "      <td>YES</td>\n",
       "      <td>5737783</td>\n",
       "      <td>ROSARIO,RAFAEL,L</td>\n",
       "      <td>FOR HIRE VEHICLE</td>\n",
       "      <td>11/16/2026</td>\n",
       "      <td>NaN</td>\n",
       "      <td>T719527C</td>\n",
       "      <td>5TDLZRBH1MS128521</td>\n",
       "      <td>NaN</td>\n",
       "      <td>NaN</td>\n",
       "      <td>...</td>\n",
       "      <td>UBER USA, LLC</td>\n",
       "      <td>BLACK-CAR</td>\n",
       "      <td>NaN</td>\n",
       "      <td>(646)780-0129</td>\n",
       "      <td>NaN</td>\n",
       "      <td>1515 THIRD STREET SAN FRANCISCO CA 94158</td>\n",
       "      <td>G</td>\n",
       "      <td>NaN</td>\n",
       "      <td>01/30/2025</td>\n",
       "      <td>13:25</td>\n",
       "    </tr>\n",
       "    <tr>\n",
       "      <th>3</th>\n",
       "      <td>YES</td>\n",
       "      <td>5897127</td>\n",
       "      <td>RIGO LIMO-AUTO CORP</td>\n",
       "      <td>FOR HIRE VEHICLE</td>\n",
       "      <td>11/09/2026</td>\n",
       "      <td>NaN</td>\n",
       "      <td>T765893C</td>\n",
       "      <td>4T1BF1FK5HU387358</td>\n",
       "      <td>NaN</td>\n",
       "      <td>NaN</td>\n",
       "      <td>...</td>\n",
       "      <td>UBER USA, LLC</td>\n",
       "      <td>BLACK-CAR</td>\n",
       "      <td>NaN</td>\n",
       "      <td>(646)780-0129</td>\n",
       "      <td>NaN</td>\n",
       "      <td>1515 THIRD STREET SAN FRANCISCO CA 94158</td>\n",
       "      <td>G</td>\n",
       "      <td>NaN</td>\n",
       "      <td>01/30/2025</td>\n",
       "      <td>13:25</td>\n",
       "    </tr>\n",
       "    <tr>\n",
       "      <th>4</th>\n",
       "      <td>YES</td>\n",
       "      <td>5744919</td>\n",
       "      <td>JEAN,,DHIMY</td>\n",
       "      <td>FOR HIRE VEHICLE</td>\n",
       "      <td>12/02/2026</td>\n",
       "      <td>NaN</td>\n",
       "      <td>KAIDILEX</td>\n",
       "      <td>5TDKDRBH0PS001211</td>\n",
       "      <td>NaN</td>\n",
       "      <td>NaN</td>\n",
       "      <td>...</td>\n",
       "      <td>UBER USA, LLC</td>\n",
       "      <td>BLACK-CAR</td>\n",
       "      <td>NaN</td>\n",
       "      <td>(646)780-0129</td>\n",
       "      <td>NaN</td>\n",
       "      <td>1515 THIRD STREET SAN FRANCISCO CA 94158</td>\n",
       "      <td>G</td>\n",
       "      <td>NaN</td>\n",
       "      <td>01/30/2025</td>\n",
       "      <td>13:25</td>\n",
       "    </tr>\n",
       "  </tbody>\n",
       "</table>\n",
       "<p>5 rows × 23 columns</p>\n",
       "</div>"
      ],
      "text/plain": [
       "  Active Vehicle License Number                 Name      License Type  \\\n",
       "0    YES                5835662    BEREHOUDOUGOU,M,M  FOR HIRE VEHICLE   \n",
       "1    YES                6052423        ZAMAN, KAMRUZ  FOR HIRE VEHICLE   \n",
       "2    YES                5737783     ROSARIO,RAFAEL,L  FOR HIRE VEHICLE   \n",
       "3    YES                5897127  RIGO LIMO-AUTO CORP  FOR HIRE VEHICLE   \n",
       "4    YES                5744919          JEAN,,DHIMY  FOR HIRE VEHICLE   \n",
       "\n",
       "  Expiration Date Permit License Number DMV License Plate Number  \\\n",
       "0      01/08/2026                   NaN                 T764264C   \n",
       "1      06/24/2026                   NaN                 T135305C   \n",
       "2      11/16/2026                   NaN                 T719527C   \n",
       "3      11/09/2026                   NaN                 T765893C   \n",
       "4      12/02/2026                   NaN                 KAIDILEX   \n",
       "\n",
       "  Vehicle VIN Number Wheelchair Accessible Certification Date  ...  \\\n",
       "0  5TDKDRBH2RS572458                   NaN                NaN  ...   \n",
       "1  JTMABACA3PA022717                   NaN                NaN  ...   \n",
       "2  5TDLZRBH1MS128521                   NaN                NaN  ...   \n",
       "3  4T1BF1FK5HU387358                   NaN                NaN  ...   \n",
       "4  5TDKDRBH0PS001211                   NaN                NaN  ...   \n",
       "\n",
       "       Base Name  Base Type  VEH Base Telephone Number Website  \\\n",
       "0  UBER USA, LLC  BLACK-CAR  NaN         (646)780-0129     NaN   \n",
       "1  UBER USA, LLC  BLACK-CAR  BEV         (646)780-0129     NaN   \n",
       "2  UBER USA, LLC  BLACK-CAR  NaN         (646)780-0129     NaN   \n",
       "3  UBER USA, LLC  BLACK-CAR  NaN         (646)780-0129     NaN   \n",
       "4  UBER USA, LLC  BLACK-CAR  NaN         (646)780-0129     NaN   \n",
       "\n",
       "                               Base Address Reason Order Date  \\\n",
       "0  1515 THIRD STREET SAN FRANCISCO CA 94158      G        NaN   \n",
       "1  1515 THIRD STREET SAN FRANCISCO CA 94158      G        NaN   \n",
       "2  1515 THIRD STREET SAN FRANCISCO CA 94158      G        NaN   \n",
       "3  1515 THIRD STREET SAN FRANCISCO CA 94158      G        NaN   \n",
       "4  1515 THIRD STREET SAN FRANCISCO CA 94158      G        NaN   \n",
       "\n",
       "  Last Date Updated Last Time Updated  \n",
       "0        01/30/2025             13:25  \n",
       "1        01/30/2025             13:25  \n",
       "2        01/30/2025             13:25  \n",
       "3        01/30/2025             13:25  \n",
       "4        01/30/2025             13:25  \n",
       "\n",
       "[5 rows x 23 columns]"
      ]
     },
     "execution_count": 2,
     "metadata": {},
     "output_type": "execute_result"
    }
   ],
   "source": [
    "# Load the dataset from the provided file path\n",
    "file_path = \"D:\\Aly6110\\For_Hire_Vehicles__FHV__-_Active_20250130.csv\"\n",
    "data = pd.read_csv(file_path)\n",
    "\n",
    "# Display the first few rows of the dataset\n",
    "data.head()\n"
   ]
  },
  {
   "cell_type": "code",
   "execution_count": 5,
   "metadata": {},
   "outputs": [
    {
     "name": "stdout",
     "output_type": "stream",
     "text": [
      "Index(['Active', 'Vehicle License Number', 'Name', 'License Type',\n",
      "       'Expiration Date', 'Permit License Number', 'DMV License Plate Number',\n",
      "       'Vehicle VIN Number', 'Wheelchair Accessible', 'Certification Date',\n",
      "       'Hack Up Date', 'Vehicle Year', 'Base Number', 'Base Name', 'Base Type',\n",
      "       'VEH', 'Base Telephone Number', 'Website', 'Base Address', 'Reason',\n",
      "       'Order Date', 'Last Date Updated', 'Last Time Updated'],\n",
      "      dtype='object')\n"
     ]
    }
   ],
   "source": [
    "print(data.columns)\n"
   ]
  },
  {
   "cell_type": "code",
   "execution_count": 6,
   "metadata": {},
   "outputs": [],
   "source": [
    "data['WAV'] = data['Wheelchair Accessible'].apply(lambda x: 1 if x == 'WAV' else 0)\n"
   ]
  },
  {
   "cell_type": "code",
   "execution_count": 7,
   "metadata": {},
   "outputs": [],
   "source": [
    "data['Vehicle Year'] = pd.to_numeric(data['Vehicle Year'], errors='coerce')\n"
   ]
  },
  {
   "cell_type": "code",
   "execution_count": 8,
   "metadata": {},
   "outputs": [],
   "source": [
    "data.dropna(subset=['Vehicle Year', 'WAV'], inplace=True)\n"
   ]
  },
  {
   "cell_type": "code",
   "execution_count": 9,
   "metadata": {},
   "outputs": [
    {
     "name": "stderr",
     "output_type": "stream",
     "text": [
      "C:\\Users\\srile\\AppData\\Local\\Temp\\ipykernel_20328\\1046883344.py:2: FutureWarning: \n",
      "\n",
      "Passing `palette` without assigning `hue` is deprecated and will be removed in v0.14.0. Assign the `x` variable to `hue` and set `legend=False` for the same effect.\n",
      "\n",
      "  sns.boxplot(data=data, x='WAV', y='Vehicle Year', palette='Set2')\n"
     ]
    },
    {
     "data": {
      "image/png": "[encoded data removed]",
      "text/plain": [
       "<Figure size 1000x600 with 1 Axes>"
      ]
     },
     "metadata": {},
     "output_type": "display_data"
    }
   ],
   "source": [
    "plt.figure(figsize=(10, 6))\n",
    "sns.boxplot(data=data, x='WAV', y='Vehicle Year', palette='Set2')\n",
    "plt.title('Box Plot: Vehicle Year by WAV Status')\n",
    "plt.xlabel('WAV (0 = Not Accessible, 1 = Accessible)')\n",
    "plt.ylabel('Vehicle Year')\n",
    "plt.show()\n"
   ]
  },
  {
   "cell_type": "code",
   "execution_count": 12,
   "metadata": {},
   "outputs": [
    {
     "name": "stderr",
     "output_type": "stream",
     "text": [
      "C:\\Users\\srile\\AppData\\Local\\Temp\\ipykernel_20328\\666789650.py:3: FutureWarning: \n",
      "\n",
      "Passing `palette` without assigning `hue` is deprecated and will be removed in v0.14.0. Assign the `x` variable to `hue` and set `legend=False` for the same effect.\n",
      "\n",
      "  sns.violinplot(data=data, x='WAV', y='Vehicle Year', palette='Set3', split=True)\n"
     ]
    },
    {
     "data": {
      "image/png": "[encoded data removed]",
      "text/plain": [
       "<Figure size 1000x600 with 1 Axes>"
      ]
     },
     "metadata": {},
     "output_type": "display_data"
    }
   ],
   "source": [
    "# Violin Plot: Distribution of Vehicle Year by WAV Status\n",
    "plt.figure(figsize=(10, 6))\n",
    "sns.violinplot(data=data, x='WAV', y='Vehicle Year', palette='Set3', split=True)\n",
    "plt.title('Violin Plot: Vehicle Year by WAV Status')\n",
    "plt.xlabel('WAV (0 = Not Accessible, 1 = Accessible)')\n",
    "plt.ylabel('Vehicle Year')\n",
    "plt.show()\n"
   ]
  },
  {
   "cell_type": "code",
   "execution_count": 14,
   "metadata": {},
   "outputs": [
    {
     "name": "stderr",
     "output_type": "stream",
     "text": [
      "C:\\Users\\srile\\AppData\\Local\\Temp\\ipykernel_20328\\378310972.py:9: SettingWithCopyWarning: \n",
      "A value is trying to be set on a copy of a slice from a DataFrame.\n",
      "Try using .loc[row_indexer,col_indexer] = value instead\n",
      "\n",
      "See the caveats in the documentation: https://pandas.pydata.org/pandas-docs/stable/user_guide/indexing.html#returning-a-view-versus-a-copy\n",
      "  data['WAV'] = data['Wheelchair Accessible'].apply(lambda x: 1 if x == 'WAV' else 0)\n",
      "C:\\Users\\srile\\AppData\\Local\\Temp\\ipykernel_20328\\378310972.py:12: SettingWithCopyWarning: \n",
      "A value is trying to be set on a copy of a slice from a DataFrame\n",
      "\n",
      "See the caveats in the documentation: https://pandas.pydata.org/pandas-docs/stable/user_guide/indexing.html#returning-a-view-versus-a-copy\n",
      "  data.drop(['Wheelchair Accessible'], axis=1, inplace=True)\n",
      "C:\\Users\\srile\\AppData\\Local\\Temp\\ipykernel_20328\\378310972.py:16: FutureWarning: A value is trying to be set on a copy of a DataFrame or Series through chained assignment using an inplace method.\n",
      "The behavior will change in pandas 3.0. This inplace method will never work because the intermediate object on which we are setting values always behaves as a copy.\n",
      "\n",
      "For example, when doing 'df[col].method(value, inplace=True)', try using 'df.method({col: value}, inplace=True)' or df[col] = df[col].method(value) instead, to perform the operation inplace on the original object.\n",
      "\n",
      "\n",
      "  data[col].fillna(data[col].mode()[0], inplace=True)\n",
      "C:\\Users\\srile\\AppData\\Local\\Temp\\ipykernel_20328\\378310972.py:16: SettingWithCopyWarning: \n",
      "A value is trying to be set on a copy of a slice from a DataFrame\n",
      "\n",
      "See the caveats in the documentation: https://pandas.pydata.org/pandas-docs/stable/user_guide/indexing.html#returning-a-view-versus-a-copy\n",
      "  data[col].fillna(data[col].mode()[0], inplace=True)\n",
      "C:\\Users\\srile\\AppData\\Local\\Temp\\ipykernel_20328\\378310972.py:19: FutureWarning: A value is trying to be set on a copy of a DataFrame or Series through chained assignment using an inplace method.\n",
      "The behavior will change in pandas 3.0. This inplace method will never work because the intermediate object on which we are setting values always behaves as a copy.\n",
      "\n",
      "For example, when doing 'df[col].method(value, inplace=True)', try using 'df.method({col: value}, inplace=True)' or df[col] = df[col].method(value) instead, to perform the operation inplace on the original object.\n",
      "\n",
      "\n",
      "  data[col].fillna(data[col].mean(), inplace=True)\n",
      "C:\\Users\\srile\\AppData\\Local\\Temp\\ipykernel_20328\\378310972.py:19: SettingWithCopyWarning: \n",
      "A value is trying to be set on a copy of a slice from a DataFrame\n",
      "\n",
      "See the caveats in the documentation: https://pandas.pydata.org/pandas-docs/stable/user_guide/indexing.html#returning-a-view-versus-a-copy\n",
      "  data[col].fillna(data[col].mean(), inplace=True)\n",
      "C:\\Users\\srile\\AppData\\Local\\Temp\\ipykernel_20328\\378310972.py:27: SettingWithCopyWarning: \n",
      "A value is trying to be set on a copy of a slice from a DataFrame.\n",
      "Try using .loc[row_indexer,col_indexer] = value instead\n",
      "\n",
      "See the caveats in the documentation: https://pandas.pydata.org/pandas-docs/stable/user_guide/indexing.html#returning-a-view-versus-a-copy\n",
      "  data[col] = le.fit_transform(data[col])\n",
      "C:\\Users\\srile\\AppData\\Local\\Temp\\ipykernel_20328\\378310972.py:27: SettingWithCopyWarning: \n",
      "A value is trying to be set on a copy of a slice from a DataFrame.\n",
      "Try using .loc[row_indexer,col_indexer] = value instead\n",
      "\n",
      "See the caveats in the documentation: https://pandas.pydata.org/pandas-docs/stable/user_guide/indexing.html#returning-a-view-versus-a-copy\n",
      "  data[col] = le.fit_transform(data[col])\n"
     ]
    },
    {
     "data": {
      "text/html": [
       "<div>\n",
       "<style scoped>\n",
       "    .dataframe tbody tr th:only-of-type {\n",
       "        vertical-align: middle;\n",
       "    }\n",
       "\n",
       "    .dataframe tbody tr th {\n",
       "        vertical-align: top;\n",
       "    }\n",
       "\n",
       "    .dataframe thead th {\n",
       "        text-align: right;\n",
       "    }\n",
       "</style>\n",
       "<table border=\"1\" class=\"dataframe\">\n",
       "  <thead>\n",
       "    <tr style=\"text-align: right;\">\n",
       "      <th></th>\n",
       "      <th>Vehicle Year</th>\n",
       "      <th>Base Type</th>\n",
       "      <th>DMV License Plate Number</th>\n",
       "      <th>WAV</th>\n",
       "    </tr>\n",
       "  </thead>\n",
       "  <tbody>\n",
       "    <tr>\n",
       "      <th>0</th>\n",
       "      <td>2024</td>\n",
       "      <td>0</td>\n",
       "      <td>84662</td>\n",
       "      <td>0</td>\n",
       "    </tr>\n",
       "    <tr>\n",
       "      <th>1</th>\n",
       "      <td>2023</td>\n",
       "      <td>0</td>\n",
       "      <td>34140</td>\n",
       "      <td>0</td>\n",
       "    </tr>\n",
       "    <tr>\n",
       "      <th>2</th>\n",
       "      <td>2021</td>\n",
       "      <td>0</td>\n",
       "      <td>65583</td>\n",
       "      <td>0</td>\n",
       "    </tr>\n",
       "    <tr>\n",
       "      <th>3</th>\n",
       "      <td>2017</td>\n",
       "      <td>0</td>\n",
       "      <td>85445</td>\n",
       "      <td>0</td>\n",
       "    </tr>\n",
       "    <tr>\n",
       "      <th>4</th>\n",
       "      <td>2023</td>\n",
       "      <td>0</td>\n",
       "      <td>2995</td>\n",
       "      <td>0</td>\n",
       "    </tr>\n",
       "  </tbody>\n",
       "</table>\n",
       "</div>"
      ],
      "text/plain": [
       "   Vehicle Year  Base Type  DMV License Plate Number  WAV\n",
       "0          2024          0                     84662    0\n",
       "1          2023          0                     34140    0\n",
       "2          2021          0                     65583    0\n",
       "3          2017          0                     85445    0\n",
       "4          2023          0                      2995    0"
      ]
     },
     "execution_count": 14,
     "metadata": {},
     "output_type": "execute_result"
    }
   ],
   "source": [
    "# Select relevant columns for analysis\n",
    "columns_to_use = [\n",
    "    'Vehicle Year', 'Wheelchair Accessible', 'Base Type',\n",
    "    'DMV License Plate Number'\n",
    "]\n",
    "data = data[columns_to_use]\n",
    "\n",
    "# Encode target variable (WAV: 1 if Wheelchair Accessible == 'WAV', else 0)\n",
    "data['WAV'] = data['Wheelchair Accessible'].apply(lambda x: 1 if x == 'WAV' else 0)\n",
    "\n",
    "# Drop unnecessary columns\n",
    "data.drop(['Wheelchair Accessible'], axis=1, inplace=True)\n",
    "\n",
    "# Handle missing values (fill with mode for categorical or mean for numerical)\n",
    "for col in data.select_dtypes(include=['object']).columns:\n",
    "    data[col].fillna(data[col].mode()[0], inplace=True)\n",
    "\n",
    "for col in data.select_dtypes(include=['int64', 'float64']).columns:\n",
    "    data[col].fillna(data[col].mean(), inplace=True)\n",
    "\n",
    "# Encode categorical variables using LabelEncoder\n",
    "from sklearn.preprocessing import LabelEncoder\n",
    "\n",
    "label_encoders = {}\n",
    "for col in data.select_dtypes(include=['object']).columns:\n",
    "    le = LabelEncoder()\n",
    "    data[col] = le.fit_transform(data[col])\n",
    "    label_encoders[col] = le\n",
    "\n",
    "# Display processed dataset head\n",
    "data.head()\n"
   ]
  },
  {
   "cell_type": "code",
   "execution_count": 15,
   "metadata": {},
   "outputs": [
    {
     "name": "stdout",
     "output_type": "stream",
     "text": [
      "Index(['Vehicle Year', 'Base Type', 'DMV License Plate Number', 'WAV'], dtype='object')\n"
     ]
    }
   ],
   "source": [
    "print(data.columns)\n"
   ]
  },
  {
   "cell_type": "code",
   "execution_count": 16,
   "metadata": {},
   "outputs": [
    {
     "name": "stdout",
     "output_type": "stream",
     "text": [
      "Training set size: 85794 samples\n",
      "Testing set size: 21449 samples\n"
     ]
    }
   ],
   "source": [
    "#test and train the data\n",
    "# Split the data into features (X) and target (y)\n",
    "X = data.drop('WAV', axis=1)\n",
    "y = data['WAV']\n",
    "\n",
    "# Standardize numerical features using StandardScaler\n",
    "scaler = StandardScaler()\n",
    "X_scaled = scaler.fit_transform(X)\n",
    "\n",
    "# Split into training and testing sets (80:20 split)\n",
    "X_train, X_test, y_train, y_test = train_test_split(X_scaled, y, test_size=0.2, random_state=42)\n",
    "\n",
    "print(f\"Training set size: {X_train.shape[0]} samples\")\n",
    "print(f\"Testing set size: {X_test.shape[0]} samples\")\n"
   ]
  },
  {
   "cell_type": "code",
   "execution_count": 18,
   "metadata": {},
   "outputs": [
    {
     "name": "stdout",
     "output_type": "stream",
     "text": [
      "Classification Report:\n",
      "              precision    recall  f1-score   support\n",
      "\n",
      "           0       0.93      1.00      0.96     19949\n",
      "           1       0.00      0.00      0.00      1500\n",
      "\n",
      "    accuracy                           0.93     21449\n",
      "   macro avg       0.47      0.50      0.48     21449\n",
      "weighted avg       0.87      0.93      0.90     21449\n",
      "\n"
     ]
    },
    {
     "name": "stderr",
     "output_type": "stream",
     "text": [
      "C:\\Users\\srile\\AppData\\Local\\Packages\\PythonSoftwareFoundation.Python.3.11_qbz5n2kfra8p0\\LocalCache\\local-packages\\Python311\\site-packages\\sklearn\\metrics\\_classification.py:1531: UndefinedMetricWarning: Precision is ill-defined and being set to 0.0 in labels with no predicted samples. Use `zero_division` parameter to control this behavior.\n",
      "  _warn_prf(average, modifier, f\"{metric.capitalize()} is\", len(result))\n",
      "C:\\Users\\srile\\AppData\\Local\\Packages\\PythonSoftwareFoundation.Python.3.11_qbz5n2kfra8p0\\LocalCache\\local-packages\\Python311\\site-packages\\sklearn\\metrics\\_classification.py:1531: UndefinedMetricWarning: Precision is ill-defined and being set to 0.0 in labels with no predicted samples. Use `zero_division` parameter to control this behavior.\n",
      "  _warn_prf(average, modifier, f\"{metric.capitalize()} is\", len(result))\n",
      "C:\\Users\\srile\\AppData\\Local\\Packages\\PythonSoftwareFoundation.Python.3.11_qbz5n2kfra8p0\\LocalCache\\local-packages\\Python311\\site-packages\\sklearn\\metrics\\_classification.py:1531: UndefinedMetricWarning: Precision is ill-defined and being set to 0.0 in labels with no predicted samples. Use `zero_division` parameter to control this behavior.\n",
      "  _warn_prf(average, modifier, f\"{metric.capitalize()} is\", len(result))\n"
     ]
    },
    {
     "data": {
      "image/png": "[encoded data removed]",
      "text/plain": [
       "<Figure size 640x480 with 2 Axes>"
      ]
     },
     "metadata": {},
     "output_type": "display_data"
    }
   ],
   "source": [
    "# Train a Logistic Regression model (for classification tasks)\n",
    "logistic_model = LogisticRegression()\n",
    "logistic_model.fit(X_train, y_train)\n",
    "\n",
    "# Make predictions on the test set\n",
    "y_pred_logistic = logistic_model.predict(X_test)\n",
    "\n",
    "# Evaluate the model using a classification report\n",
    "print(\"Classification Report:\")\n",
    "print(classification_report(y_test, y_pred_logistic))\n",
    "\n",
    "# Visualize the confusion matrix using Seaborn heatmap\n",
    "from sklearn.metrics import confusion_matrix\n",
    "\n",
    "conf_matrix = confusion_matrix(y_test, y_pred_logistic)\n",
    "sns.heatmap(conf_matrix, annot=True, fmt='d', cmap='Blues', xticklabels=['Not WAV', 'WAV'], yticklabels=['Not WAV', 'WAV'])\n",
    "plt.xlabel('Predicted')\n",
    "plt.ylabel('Actual')\n",
    "plt.title('Confusion Matrix')\n",
    "plt.show()\n"
   ]
  },
  {
   "cell_type": "code",
   "execution_count": 19,
   "metadata": {},
   "outputs": [
    {
     "name": "stdout",
     "output_type": "stream",
     "text": [
      "Ridge Regression Mean Squared Error: 0.063728314968967\n"
     ]
    }
   ],
   "source": [
    "# Train a Ridge Regression model (for regression tasks)\n",
    "ridge_model = Ridge(alpha=1.0)\n",
    "ridge_model.fit(X_train, y_train)\n",
    "\n",
    "# Make predictions on the test set\n",
    "y_pred_ridge = ridge_model.predict(X_test)\n",
    "\n",
    "# Evaluate the model using Mean Squared Error (MSE)\n",
    "mse_ridge = mean_squared_error(y_test, y_pred_ridge)\n",
    "print(f\"Ridge Regression Mean Squared Error: {mse_ridge}\")\n"
   ]
  }
 ],
 "metadata": {
  "kernelspec": {
   "display_name": "Python 3",
   "language": "python",
   "name": "python3"
  },
  "language_info": {
   "codemirror_mode": {
    "name": "ipython",
    "version": 3
   },
   "file_extension": ".py",
   "mimetype": "text/x-python",
   "name": "python",
   "nbconvert_exporter": "python",
   "pygments_lexer": "ipython3",
   "version": "3.11.9"
  }
 },
 "nbformat": 4,
 "nbformat_minor": 2
}
